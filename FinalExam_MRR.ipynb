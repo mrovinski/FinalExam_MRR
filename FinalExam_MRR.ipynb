{
 "cells": [
  {
   "cell_type": "markdown",
   "metadata": {},
   "source": [
    "# Final Exam\n",
    "\n",
    "**Author:** Molly Rovinski\n",
    "**Version:** 1.0\n",
    "**Semester:** Fall 2020"
   ]
  },
  {
   "cell_type": "markdown",
   "metadata": {},
   "source": [
    "**Problem 1:** Write a program that calculates the surface area and surface volume of a cylinders and cones. "
   ]
  },
  {
   "cell_type": "code",
   "execution_count": 111,
   "metadata": {},
   "outputs": [],
   "source": [
    "from math import pi"
   ]
  },
  {
   "cell_type": "code",
   "execution_count": 112,
   "metadata": {},
   "outputs": [
    {
     "name": "stdout",
     "output_type": "stream",
     "text": [
      "The volume of the cylinder is 549.78 square units.\n"
     ]
    }
   ],
   "source": [
    "def cylinderVolume():\n",
    "    \"\"\"This function accepts the radius and height of a cylinder and returns the volume.\"\"\"\n",
    "    math.pi = pi\n",
    "    cyvolume = (pi*(radius**2)*height)\n",
    "    print (\"The volume of the cylinder is\", f'{cyvolume:.2F}', \"square units.\")\n",
    "    return cyvolume\n",
    "a = cylinderVolume()"
   ]
  },
  {
   "cell_type": "code",
   "execution_count": 113,
   "metadata": {},
   "outputs": [
    {
     "name": "stdout",
     "output_type": "stream",
     "text": [
      "The surface area of the cylinder is 376.99 cubic units.\n"
     ]
    }
   ],
   "source": [
    "def cylinderSurface():\n",
    "    \"\"\"This function accepts the radius and height of a cylinder and returns the surface area.\"\"\"\n",
    "    math.pi = pi\n",
    "    cysurfaceArea = ((2*pi*radius)*height)+((pi*radius**2)*2)\n",
    "    print (\"The surface area of the cylinder is\", f'{cysurfaceArea:.2F}',\"cubic units.\")\n",
    "    return cysurfaceArea\n",
    "b = cylinderSurface()"
   ]
  },
  {
   "cell_type": "code",
   "execution_count": 114,
   "metadata": {},
   "outputs": [
    {
     "name": "stdout",
     "output_type": "stream",
     "text": [
      "The volume of the cone is 183.26 cubic units.\n"
     ]
    }
   ],
   "source": [
    "def coneVolume():\n",
    "    \"\"\"This function accepts the radius and height of a cone and returns the volume.\"\"\"\n",
    "    math.pi = pi\n",
    "    covolume = pi*(radius**2)*(height/3)\n",
    "    print (\"The volume of the cone is\",f'{covolume:.2F}', \"cubic units.\")\n",
    "    return covolume\n",
    "c = coneVolume()"
   ]
  },
  {
   "cell_type": "code",
   "execution_count": 115,
   "metadata": {},
   "outputs": [
    {
     "name": "stdout",
     "output_type": "stream",
     "text": [
      "The surface area of the cone is 213.66 square units.\n"
     ]
    }
   ],
   "source": [
    "def coneSurface():\n",
    "    \"\"\"This function accepts the radius and height of a cone and returns the surface area.\"\"\"\n",
    "    math.pi = pi\n",
    "    cosurfaceArea = pi * radius * (radius + math.sqrt((height**2)+(radius**2)))\n",
    "    print (\"The surface area of the cone is\", f'{cosurfaceArea:.2F}',\"square units.\")\n",
    "    return cosurfaceArea\n",
    "d = coneSurface()"
   ]
  },
  {
   "cell_type": "code",
   "execution_count": 116,
   "metadata": {},
   "outputs": [
    {
     "name": "stdout",
     "output_type": "stream",
     "text": [
      "            Welcome to Geometry Calculator!\n",
      "               Geometry Calculator   \n",
      "    ===========================================\n",
      "    1. Calculate the volume of a cylinder.\n",
      "    2. Caclulate the surfae area of a cylinder.\n",
      "    3. Calculate the volume of a cone.\n",
      "    4. Calculate the surface area of a cone.\n",
      "    5. Print Table\n",
      "    6. Save Data\n",
      "    \n"
     ]
    }
   ],
   "source": [
    "def display_menu():\n",
    "    \"\"\"This function displays a menu for the user.\"\"\"\n",
    "    \n",
    "    string1 = \"Welcome to Geometry Calculator!\\n\"\n",
    "    string2 = \"Geometry Calculator\"\n",
    "\n",
    "    print(\n",
    "    '{:^56s}'.format(string1),\n",
    "    '{:^23s}'.format(string2),\n",
    "    \"\"\"\n",
    "    ===========================================\n",
    "    1. Calculate the volume of a cylinder.\n",
    "    2. Caclulate the surfae area of a cylinder.\n",
    "    3. Calculate the volume of a cone.\n",
    "    4. Calculate the surface area of a cone.\n",
    "    5. Print Table\n",
    "    6. Save Data\n",
    "    \"\"\")\n",
    "display_menu()"
   ]
  },
  {
   "cell_type": "code",
   "execution_count": 117,
   "metadata": {},
   "outputs": [],
   "source": [
    "from prettytable import PrettyTable"
   ]
  },
  {
   "cell_type": "code",
   "execution_count": 118,
   "metadata": {},
   "outputs": [
    {
     "name": "stdout",
     "output_type": "stream",
     "text": [
      "Enter your choice (-1 to quit): \n"
     ]
    }
   ],
   "source": [
    "choice = input(\"Enter your choice (-1 to quit): \")"
   ]
  },
  {
   "cell_type": "code",
   "execution_count": 119,
   "metadata": {},
   "outputs": [],
   "source": [
    "def print_table(choices):\n",
    "    \"\"\"This function accepts a list of lists of geometric solids that have been calculated in the current run of the program and prints a pretty table of the geometric solids that have been calculated in the current run of the program.\"\"\"\n",
    "    pt = PrettyTable()   \n",
    "    pt.field_names = [\"Measurement\",\"Radius\",\"Height\",\"Value\"]\n",
    "    for vals in choices:\n",
    "        choice, radius, height, val = vals\n",
    "        if choice == 1:\n",
    "            pt.add_row([\"Cylinder Volume\", radius, height, f'{val:.2F}'])\n",
    "        elif choice == 2:\n",
    "            pt.add_row([\"Cylinder Surface Area\", radius, height, f'{val:.2F}'])\n",
    "        elif choice == 3:\n",
    "            pt.add_row([\"Cone Volume\", radius, height,f'{val:.2F}'])\n",
    "        elif choice == 4:\n",
    "            pt.add_row([\"Cone Surface Area\", radius, height, f'{val:.2F}'])\n",
    "    print(pt)"
   ]
  },
  {
   "cell_type": "code",
   "execution_count": 125,
   "metadata": {},
   "outputs": [],
   "source": [
    "def save_data(choices, file):\n",
    "    \"\"\"This function accepts a list of lists of geometric solids that have been calculated in the current run of the program, prompts for the filename, and saves the list to the file.\"\"\"\n",
    "    filename = file\n",
    "    f = open (file, \"w\")\n",
    "    for vals in choices:\n",
    "        choice, radius, height, val = vals\n",
    "        if choice == 1:\n",
    "            f.writelines([\"Cylinder Volume \", \"Radius: % s \" % radius, \"Height: % s Volume: \" % height, f'{val:.2F}', \"\\n\"])\n",
    "        elif choice == 2:\n",
    "            f.writelines([\"Cylinder Surface Area \", \"Radius: % s \" % radius, \"Height: % s Surface Area: \" % height, f'{val:.2F}', \"\\n\"])\n",
    "        elif choice == 3:\n",
    "            f.writelines([\"Cone Volume \", \"Radius: % s \" % radius, \"Height: % s Volume: \" % height, f'{val:.2F}', \"\\n\"])\n",
    "        elif choice == 4:\n",
    "            f.writelines([\"Cone Surface Area \", \"Radius: % s \" % radius, \"Height: % s Surface Area: \" % height, f'{val:.2F}',\"\\n\"])\n",
    "    f.close()"
   ]
  },
  {
   "cell_type": "code",
   "execution_count": 126,
   "metadata": {},
   "outputs": [
    {
     "name": "stdout",
     "output_type": "stream",
     "text": [
      "            Welcome to Geometry Calculator!\n",
      "               Geometry Calculator   \n",
      "    ===========================================\n",
      "    1. Calculate the volume of a cylinder.\n",
      "    2. Caclulate the surfae area of a cylinder.\n",
      "    3. Calculate the volume of a cone.\n",
      "    4. Calculate the surface area of a cone.\n",
      "    5. Print Table\n",
      "    6. Save Data\n",
      "    \n",
      "Choose option (-1 to quit): -1\n",
      "Thanks for using the Geometry Calculator!\n"
     ]
    }
   ],
   "source": [
    "def main():\n",
    "    \"\"\"This function runs the main loop of the program.\"\"\"\n",
    "    options =[]\n",
    "    display_menu()\n",
    "    choice = int(input(\"Choose option (-1 to quit): \"))\n",
    "    while choice != -1:\n",
    "        if choice == 1:\n",
    "            radius = int(input(\"Enter the radius of the cylinder: \"))\n",
    "            height = int(input(\"Enter the height of the cylinder: \"))\n",
    "            vol = cylinderVolume()\n",
    "            options.append((choice, radius, height, vol))\n",
    "        elif choice == 2: \n",
    "            radius = int(input(\"Enter the radius of the cylinder: \"))\n",
    "            height = int(input(\"Enter the height of the cylinder: \"))\n",
    "            surf = cylinderSurface()\n",
    "            options.append((choice, radius, height, surf))\n",
    "        elif choice == 3: \n",
    "            radius = int(input(\"Enter the radius of the cone: \"))\n",
    "            height = int(input(\"Enter the height of the cone: \"))\n",
    "            covol = coneVolume()\n",
    "            options.append((choice, radius, height, covol))\n",
    "        elif choice == 4:\n",
    "            radius = int(input(\"Enter the radius of the cone: \"))\n",
    "            height = int(input(\"Enter the height of the cone: \"))\n",
    "            cosurf = coneSurface()\n",
    "            options.append((choice, radius, height, cosurf))\n",
    "        elif choice == 5:\n",
    "            print_table(options)\n",
    "        elif choice == 6:\n",
    "            file = input(\"Enter the filename: \")\n",
    "            save_data(options, file)\n",
    "        else:\n",
    "            print (\"This option does not exist. Try again.\")\n",
    "        choice = int(input (\"Choose option (-1 to quit): \"))\n",
    "    print (\"Thanks for using the Geometry Calculator!\")\n",
    "    \n",
    "main()"
   ]
  },
  {
   "cell_type": "code",
   "execution_count": 128,
   "metadata": {},
   "outputs": [
    {
     "name": "stdout",
     "output_type": "stream",
     "text": [
      "            Welcome to Geometry Calculator!\n",
      "               Geometry Calculator   \n",
      "    ===========================================\n",
      "    1. Calculate the volume of a cylinder.\n",
      "    2. Caclulate the surfae area of a cylinder.\n",
      "    3. Calculate the volume of a cone.\n",
      "    4. Calculate the surface area of a cone.\n",
      "    5. Print Table\n",
      "    6. Save Data\n",
      "    \n",
      "Choose option (-1 to quit): 1\n",
      "Enter the radius of the cylinder: 2\n",
      "Enter the height of the cylinder: 3\n",
      "The volume of the cylinder is 549.78 square units.\n",
      "Choose option (-1 to quit): 2\n",
      "Enter the radius of the cylinder: 3\n",
      "Enter the height of the cylinder: 4\n",
      "The surface area of the cylinder is 376.99 cubic units.\n",
      "Choose option (-1 to quit): 3\n",
      "Enter the radius of the cone: 4\n",
      "Enter the height of the cone: 5\n",
      "The volume of the cone is 183.26 cubic units.\n",
      "Choose option (-1 to quit): 4\n",
      "Enter the radius of the cone: 5\n",
      "Enter the height of the cone: 6\n",
      "The surface area of the cone is 213.66 square units.\n",
      "Choose option (-1 to quit): 2\n",
      "Enter the radius of the cylinder: 3\n",
      "Enter the height of the cylinder: 7\n",
      "The surface area of the cylinder is 376.99 cubic units.\n",
      "Choose option (-1 to quit): 4\n",
      "Enter the radius of the cone: 2\n",
      "Enter the height of the cone: 9\n",
      "The surface area of the cone is 213.66 square units.\n",
      "Choose option (-1 to quit): 1\n",
      "Enter the radius of the cylinder: 4\n",
      "Enter the height of the cylinder: 7\n",
      "The volume of the cylinder is 549.78 square units.\n",
      "Choose option (-1 to quit): 5\n",
      "+-----------------------+--------+--------+--------+\n",
      "|      Measurement      | Radius | Height | Value  |\n",
      "+-----------------------+--------+--------+--------+\n",
      "|    Cylinder Volume    |   2    |   3    | 549.78 |\n",
      "| Cylinder Surface Area |   3    |   4    | 376.99 |\n",
      "|      Cone Volume      |   4    |   5    | 183.26 |\n",
      "|   Cone Surface Area   |   5    |   6    | 213.66 |\n",
      "| Cylinder Surface Area |   3    |   7    | 376.99 |\n",
      "|   Cone Surface Area   |   2    |   9    | 213.66 |\n",
      "|    Cylinder Volume    |   4    |   7    | 549.78 |\n",
      "+-----------------------+--------+--------+--------+\n",
      "Choose option (-1 to quit): 6\n",
      "Enter the filename: test2.text\n",
      "Choose option (-1 to quit): -1\n",
      "Thanks for using the Geometry Calculator!\n"
     ]
    }
   ],
   "source": [
    "main()"
   ]
  }
 ],
 "metadata": {
  "kernelspec": {
   "display_name": "Python 3",
   "language": "python",
   "name": "python3"
  },
  "language_info": {
   "codemirror_mode": {
    "name": "ipython",
    "version": 3
   },
   "file_extension": ".py",
   "mimetype": "text/x-python",
   "name": "python",
   "nbconvert_exporter": "python",
   "pygments_lexer": "ipython3",
   "version": "3.8.3"
  }
 },
 "nbformat": 4,
 "nbformat_minor": 4
}
